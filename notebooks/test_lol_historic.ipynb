{
 "cells": [
  {
   "cell_type": "code",
   "execution_count": 1,
   "id": "663c8bf5-f314-4138-98ba-52722228d430",
   "metadata": {},
   "outputs": [],
   "source": [
    "import sys\n",
    "import os\n",
    "\n",
    "# Adiciona o diretório src ao PATH do Python\n",
    "src_path = os.path.abspath(os.path.join('..', 'src'))\n",
    "if src_path not in sys.path:\n",
    "    sys.path.append(src_path)"
   ]
  },
  {
   "cell_type": "code",
   "execution_count": 2,
   "id": "2e00d75b",
   "metadata": {},
   "outputs": [
    {
     "name": "stdout",
     "output_type": "stream",
     "text": [
      "Raw config received: {'path': 'data/01_raw/LolHistoric', 'dataset': {'type': 'pandas.CSVDataset', 'load_args': {'sep': ',', 'encoding': 'utf-8'}}}\n",
      "Raw config received: {'path': 'data/03_primary/versusScenarios', 'dataset': {'type': 'pandas.CSVDataset', 'load_args': {'sep': ',', 'encoding': 'utf-8'}, 'save_args': {'index': False}}}\n",
      "Raw config received: PartitionedDataset(dataset_config={}, dataset_type=CSVDataset, path=C:/Users/Micro/Documents/Projetos/MobaChampion/MobaChampionAnalysis/mca/data/01_raw/LolHistoric)\n"
     ]
    },
    {
     "name": "stderr",
     "output_type": "stream",
     "text": [
      "c:\\Users\\Micro\\Documents\\Projetos\\MobaChampion\\MobaChampionAnalysis\\analysis_venv\\Lib\\site-packages\\kedro\\io\\data_catalog.py:165: KedroDeprecationWarning: `DataCatalog` has been deprecated and will be replaced by `KedroDataCatalog`, in Kedro 1.0.0.Currently some `KedroDataCatalog` APIs have been retained for compatibility with `DataCatalog`, including the `datasets` property and the `get_datasets`, `_get_datasets`, `add`,` list`, `add_feed_dict`, and `shallow_copy` methods. These will be removed or replaced with updated alternatives in Kedro 1.0.0. For more details, refer to the documentation: https://docs.kedro.org/en/stable/data/index.html#kedrodatacatalog-experimental-feature\n",
      "  warnings.warn(\n"
     ]
    }
   ],
   "source": [
    "# %load ../src/mca/catalog.py\n",
    "# src/mca/catalog.py\n",
    "from pathlib import Path\n",
    "import os\n",
    "\n",
    "from kedro.config import OmegaConfigLoader\n",
    "from kedro.io import DataCatalog\n",
    "from kedro_datasets.partitions.partitioned_dataset import PartitionedDataset\n",
    "#from mca.src.mca.custom_data.year_partition import YearPartitionsDataset\n",
    "from mca.custom_data.year_partition import YearPartitionsDataset\n",
    "from mca.custom_data.versus_scenarios import VersusScenarios\n",
    "# Caminho base do projeto\n",
    "#base_path = Path(__file__).resolve().parents[2]  # src/mca/\n",
    "base_path = Path.cwd().parents[1] / 'mca/'  # Ajuste conforme sua estrutura\n",
    "conf_path = base_path / \"conf\" / \"base\"\n",
    "#conf_path = \"conf/base\"\n",
    "# Carrega configs\n",
    "conf_loader = OmegaConfigLoader(str(conf_path))\n",
    "catalog_config = conf_loader[\"catalog\"]\n",
    "catalog = DataCatalog.from_config(catalog_config)\n",
    "catalog.list()\n",
    "# Adiciona dataset customizado\n",
    "partitioned_dataset = catalog._get_dataset(\"LolHistoric\")\n",
    "catalog.add(\"lol_historic_years_note\", YearPartitionsDataset(partitioned_dataset))\n",
    "#partitioned_dataset_a = catalog._get_dataset(\"versusScenarios\")\n",
    "#catalog.add(\"versus_scenarios_note\", VersusScenarios(partitioned_dataset_a))\n"
   ]
  },
  {
   "cell_type": "code",
   "execution_count": 3,
   "id": "9b35d800",
   "metadata": {},
   "outputs": [
    {
     "data": {
      "text/plain": [
       "['LolHistoric',\n",
       " 'lol_historic_years',\n",
       " 'metadataChampion',\n",
       " 'HeroInfo_data',\n",
       " 'damageTypeCount',\n",
       " 'modifierNameCount',\n",
       " 'attributeNameCount',\n",
       " 'championCount',\n",
       " 'championDamageCount',\n",
       " 'championGoldCount',\n",
       " 'championMinionCount',\n",
       " 'championKdaCount',\n",
       " 'versusScenarios',\n",
       " 'lol_historic_years_note']"
      ]
     },
     "execution_count": 3,
     "metadata": {},
     "output_type": "execute_result"
    }
   ],
   "source": [
    "catalog.list()"
   ]
  },
  {
   "cell_type": "code",
   "execution_count": 4,
   "id": "cce5cba4",
   "metadata": {},
   "outputs": [],
   "source": [
    "data_scenarios = catalog.load(\"versusScenarios\")"
   ]
  },
  {
   "cell_type": "code",
   "execution_count": 5,
   "id": "031564d6",
   "metadata": {},
   "outputs": [
    {
     "data": {
      "text/plain": [
       "{}"
      ]
     },
     "execution_count": 5,
     "metadata": {},
     "output_type": "execute_result"
    }
   ],
   "source": [
    "data_scenarios"
   ]
  },
  {
   "cell_type": "code",
   "execution_count": 6,
   "id": "83633074",
   "metadata": {},
   "outputs": [
    {
     "name": "stdout",
     "output_type": "stream",
     "text": [
      "Found partitions: ['2014_LoL_esports_match_data_from_OraclesElixir.csv', '2015_LoL_esports_match_data_from_OraclesElixir.csv', '2016_LoL_esports_match_data_from_OraclesElixir.csv', '2017_LoL_esports_match_data_from_OraclesElixir.csv', '2018_LoL_esports_match_data_from_OraclesElixir.csv', '2019_LoL_esports_match_data_from_OraclesElixir.csv', '2020_LoL_esports_match_data_from_OraclesElixir.csv', '2021_LoL_esports_match_data_from_OraclesElixir.csv', '2022_LoL_esports_match_data_from_OraclesElixir.csv', '2023_LoL_esports_match_data_from_OraclesElixir.csv', '2024_LoL_esports_match_data_from_OraclesElixir.csv']\n",
      "Processing partition: 2014_LoL_esports_match_data_from_OraclesElixir.csv\n",
      "Partition: <bound method CSVDataset.load of kedro_datasets.pandas.csv_dataset.CSVDataset(filepath=PurePosixPath('C:/Users/Micro/Documents/Projetos/MobaChampion/MobaChampionAnalysis/mca/data/01_raw/LolHistoric/2014_LoL_esports_match_data_from_OraclesElixir.csv'), protocol='file', load_args={}, save_args={'index': False})>\n",
      "Loaded DataFrame shape: (11016, 161)\n",
      "Processing partition: 2015_LoL_esports_match_data_from_OraclesElixir.csv\n",
      "Partition: <bound method CSVDataset.load of kedro_datasets.pandas.csv_dataset.CSVDataset(filepath=PurePosixPath('C:/Users/Micro/Documents/Projetos/MobaChampion/MobaChampionAnalysis/mca/data/01_raw/LolHistoric/2015_LoL_esports_match_data_from_OraclesElixir.csv'), protocol='file', load_args={}, save_args={'index': False})>\n",
      "Loaded DataFrame shape: (21792, 161)\n",
      "Processing partition: 2016_LoL_esports_match_data_from_OraclesElixir.csv\n",
      "Partition: <bound method CSVDataset.load of kedro_datasets.pandas.csv_dataset.CSVDataset(filepath=PurePosixPath('C:/Users/Micro/Documents/Projetos/MobaChampion/MobaChampionAnalysis/mca/data/01_raw/LolHistoric/2016_LoL_esports_match_data_from_OraclesElixir.csv'), protocol='file', load_args={}, save_args={'index': False})>\n",
      "Loaded DataFrame shape: (50568, 161)\n",
      "Processing partition: 2017_LoL_esports_match_data_from_OraclesElixir.csv\n",
      "Partition: <bound method CSVDataset.load of kedro_datasets.pandas.csv_dataset.CSVDataset(filepath=PurePosixPath('C:/Users/Micro/Documents/Projetos/MobaChampion/MobaChampionAnalysis/mca/data/01_raw/LolHistoric/2017_LoL_esports_match_data_from_OraclesElixir.csv'), protocol='file', load_args={}, save_args={'index': False})>\n",
      "Loaded DataFrame shape: (68424, 161)\n",
      "Processing partition: 2018_LoL_esports_match_data_from_OraclesElixir.csv\n",
      "Partition: <bound method CSVDataset.load of kedro_datasets.pandas.csv_dataset.CSVDataset(filepath=PurePosixPath('C:/Users/Micro/Documents/Projetos/MobaChampion/MobaChampionAnalysis/mca/data/01_raw/LolHistoric/2018_LoL_esports_match_data_from_OraclesElixir.csv'), protocol='file', load_args={}, save_args={'index': False})>\n",
      "Loaded DataFrame shape: (80904, 161)\n",
      "Processing partition: 2019_LoL_esports_match_data_from_OraclesElixir.csv\n",
      "Partition: <bound method CSVDataset.load of kedro_datasets.pandas.csv_dataset.CSVDataset(filepath=PurePosixPath('C:/Users/Micro/Documents/Projetos/MobaChampion/MobaChampionAnalysis/mca/data/01_raw/LolHistoric/2019_LoL_esports_match_data_from_OraclesElixir.csv'), protocol='file', load_args={}, save_args={'index': False})>\n",
      "Loaded DataFrame shape: (97524, 161)\n",
      "Processing partition: 2020_LoL_esports_match_data_from_OraclesElixir.csv\n",
      "Partition: <bound method CSVDataset.load of kedro_datasets.pandas.csv_dataset.CSVDataset(filepath=PurePosixPath('C:/Users/Micro/Documents/Projetos/MobaChampion/MobaChampionAnalysis/mca/data/01_raw/LolHistoric/2020_LoL_esports_match_data_from_OraclesElixir.csv'), protocol='file', load_args={}, save_args={'index': False})>\n",
      "Loaded DataFrame shape: (117552, 161)\n",
      "Processing partition: 2021_LoL_esports_match_data_from_OraclesElixir.csv\n",
      "Partition: <bound method CSVDataset.load of kedro_datasets.pandas.csv_dataset.CSVDataset(filepath=PurePosixPath('C:/Users/Micro/Documents/Projetos/MobaChampion/MobaChampionAnalysis/mca/data/01_raw/LolHistoric/2021_LoL_esports_match_data_from_OraclesElixir.csv'), protocol='file', load_args={}, save_args={'index': False})>\n",
      "Loaded DataFrame shape: (148296, 161)\n",
      "Processing partition: 2022_LoL_esports_match_data_from_OraclesElixir.csv\n",
      "Partition: <bound method CSVDataset.load of kedro_datasets.pandas.csv_dataset.CSVDataset(filepath=PurePosixPath('C:/Users/Micro/Documents/Projetos/MobaChampion/MobaChampionAnalysis/mca/data/01_raw/LolHistoric/2022_LoL_esports_match_data_from_OraclesElixir.csv'), protocol='file', load_args={}, save_args={'index': False})>\n"
     ]
    },
    {
     "name": "stderr",
     "output_type": "stream",
     "text": [
      "c:\\Users\\Micro\\Documents\\Projetos\\MobaChampion\\MobaChampionAnalysis\\analysis_venv\\Lib\\site-packages\\kedro_datasets\\pandas\\csv_dataset.py:175: DtypeWarning: Columns (2) have mixed types. Specify dtype option on import or set low_memory=False.\n",
      "  return pd.read_csv(load_path, **self._load_args)\n"
     ]
    },
    {
     "name": "stdout",
     "output_type": "stream",
     "text": [
      "Loaded DataFrame shape: (150180, 161)\n",
      "Processing partition: 2023_LoL_esports_match_data_from_OraclesElixir.csv\n",
      "Partition: <bound method CSVDataset.load of kedro_datasets.pandas.csv_dataset.CSVDataset(filepath=PurePosixPath('C:/Users/Micro/Documents/Projetos/MobaChampion/MobaChampionAnalysis/mca/data/01_raw/LolHistoric/2023_LoL_esports_match_data_from_OraclesElixir.csv'), protocol='file', load_args={}, save_args={'index': False})>\n"
     ]
    },
    {
     "name": "stderr",
     "output_type": "stream",
     "text": [
      "c:\\Users\\Micro\\Documents\\Projetos\\MobaChampion\\MobaChampionAnalysis\\analysis_venv\\Lib\\site-packages\\kedro_datasets\\pandas\\csv_dataset.py:175: DtypeWarning: Columns (2) have mixed types. Specify dtype option on import or set low_memory=False.\n",
      "  return pd.read_csv(load_path, **self._load_args)\n"
     ]
    },
    {
     "name": "stdout",
     "output_type": "stream",
     "text": [
      "Loaded DataFrame shape: (131676, 161)\n",
      "Processing partition: 2024_LoL_esports_match_data_from_OraclesElixir.csv\n",
      "Partition: <bound method CSVDataset.load of kedro_datasets.pandas.csv_dataset.CSVDataset(filepath=PurePosixPath('C:/Users/Micro/Documents/Projetos/MobaChampion/MobaChampionAnalysis/mca/data/01_raw/LolHistoric/2024_LoL_esports_match_data_from_OraclesElixir.csv'), protocol='file', load_args={}, save_args={'index': False})>\n"
     ]
    },
    {
     "name": "stderr",
     "output_type": "stream",
     "text": [
      "c:\\Users\\Micro\\Documents\\Projetos\\MobaChampion\\MobaChampionAnalysis\\analysis_venv\\Lib\\site-packages\\kedro_datasets\\pandas\\csv_dataset.py:175: DtypeWarning: Columns (2) have mixed types. Specify dtype option on import or set low_memory=False.\n",
      "  return pd.read_csv(load_path, **self._load_args)\n"
     ]
    },
    {
     "name": "stdout",
     "output_type": "stream",
     "text": [
      "Loaded DataFrame shape: (116976, 161)\n"
     ]
    }
   ],
   "source": [
    "data = catalog.load(\"lol_historic_years_note\")"
   ]
  },
  {
   "cell_type": "code",
   "execution_count": 5,
   "id": "db46cedd",
   "metadata": {},
   "outputs": [],
   "source": [
    "# %load ../src/mca/utils/operations.py\n",
    "import numpy as np\n",
    "\n",
    "def calculate_mean(x):\n",
    "    return round(np.mean(x),2)\n"
   ]
  },
  {
   "cell_type": "code",
   "execution_count": 16,
   "id": "d7dd78e1",
   "metadata": {},
   "outputs": [
    {
     "name": "stdout",
     "output_type": "stream",
     "text": [
      "champion\n",
      "Trundle      204\n",
      "Shyvana       66\n",
      "Renekton      54\n",
      "Dr. Mundo     22\n",
      "Irelia        10\n",
      "Lee Sin        8\n",
      "Jax            8\n",
      "Gragas         6\n",
      "Warwick        4\n",
      "Ryze           4\n",
      "LeBlanc        4\n",
      "Jayce          4\n",
      "Lissandra      2\n",
      "Rumble         2\n",
      "Malphite       2\n",
      "Wukong         2\n",
      "Vladimir       2\n",
      "Lulu           2\n",
      "Aatrox         2\n",
      "Name: count, dtype: int64\n"
     ]
    }
   ],
   "source": [
    "import pandas as pd\n",
    "data_2014 = data[\"2014\"]\n",
    "data_2014_trundle = data_2014.query(\"champion == 'Trundle'\").loc[:,\"gameid\"].tolist()\n",
    "data_2014_trundle_games = data_2014[data_2014[\"gameid\"].isin(data_2014_trundle)]\n",
    "df_champion = data_2014_trundle_games.copy()\n",
    "champion = \"Trundle\"\n",
    "roles = pd.unique(df_champion.loc[df_champion[\"champion\"] == champion,\"position\"]).tolist()\n",
    "result = []\n",
    "for r in roles:\n",
    "    game_id = df_champion.loc[(df_champion[\"position\"] == r)&\n",
    "                                (df_champion[\"champion\"] == champion)\n",
    "                                ,\"gameid\"]\n",
    "    #print(game_id)\n",
    "    df_role = df_champion.loc[(df_champion[\"gameid\"].isin(game_id))&\n",
    "                                (df_champion[\"position\"] == r)\n",
    "                                #&\n",
    "                                #(df_champion[\"champion\"] != champion)\n",
    "                                ]\n",
    "    df_role.loc[:,[\"champion\",\"gameid\",\"teamname\",\"playername\",\"result\"]]\n",
    "    print(df_role[\"champion\"].value_counts())\n",
    "    data_result = df_role.groupby(\"champion\").agg(\n",
    "                        win_ratio=(\"result\",lambda x: round(1 - calculate_mean(x),2)),\n",
    "                        loss_ratio=(\"result\",lambda x: calculate_mean(x)),\n",
    "                        loss=(\"result\",\"sum\"),\n",
    "                        pick=(\"champion\",\"count\"),\n",
    "                        cs_diff_10=(\"csdiffat10\",lambda x: calculate_mean(x)),\n",
    "                        cs_diff_15=(\"csdiffat15\",lambda x: calculate_mean(x)),\n",
    "                        cs_diff_20=(\"csdiffat20\",lambda x: calculate_mean(x))\n",
    "                        )\n",
    "    data_result\n",
    "    data_result[\"wins\"] = data_result[\"pick\"] - data_result[\"loss\"]\n",
    "    "
   ]
  },
  {
   "cell_type": "code",
   "execution_count": 17,
   "id": "159cf315",
   "metadata": {},
   "outputs": [
    {
     "data": {
      "application/vnd.microsoft.datawrangler.viewer.v0+json": {
       "columns": [
        {
         "name": "index",
         "rawType": "int64",
         "type": "integer"
        },
        {
         "name": "champion",
         "rawType": "object",
         "type": "string"
        },
        {
         "name": "gameid",
         "rawType": "object",
         "type": "string"
        },
        {
         "name": "teamname",
         "rawType": "object",
         "type": "string"
        },
        {
         "name": "playername",
         "rawType": "object",
         "type": "string"
        },
        {
         "name": "result",
         "rawType": "int64",
         "type": "integer"
        },
        {
         "name": "csdiffat10",
         "rawType": "int64",
         "type": "integer"
        }
       ],
       "ref": "5bf2c048-c9c1-499e-9417-b4a51abf2e36",
       "rows": [
        [
         "0",
         "Trundle",
         "TRLH3/33",
         "Fnatic",
         "sOAZ",
         "1",
         "0"
        ],
        [
         "5",
         "Dr. Mundo",
         "TRLH3/33",
         "Gambit Gaming",
         "Darien",
         "0",
         "0"
        ],
        [
         "168",
         "Dr. Mundo",
         "TRLH1/1000050071",
         "Team Curse",
         "Quas",
         "1",
         "3"
        ],
        [
         "173",
         "Trundle",
         "TRLH1/1000050071",
         "Team Coast",
         "Darshan",
         "0",
         "-3"
        ],
        [
         "240",
         "Trundle",
         "TRLH1/1000040155",
         "Dignitas",
         "Cruzer",
         "0",
         "28"
        ],
        [
         "245",
         "Warwick",
         "TRLH1/1000040155",
         "TSM",
         "Dyrus",
         "1",
         "-28"
        ],
        [
         "384",
         "Trundle",
         "TRLH3/20057",
         "Alliance",
         "Wickd",
         "1",
         "7"
        ],
        [
         "389",
         "Renekton",
         "TRLH3/20057",
         "Copenhagen Wolves",
         "YoungBuck",
         "0",
         "-7"
        ],
        [
         "468",
         "Shyvana",
         "TRLH1/1000060034",
         "TSM",
         "Dyrus",
         "1",
         "-7"
        ],
        [
         "473",
         "Trundle",
         "TRLH1/1000060034",
         "Counter Logic Gaming",
         "Nien",
         "0",
         "7"
        ],
        [
         "564",
         "Trundle",
         "TRLH3/20094",
         "Gambit Gaming",
         "Darien",
         "1",
         "29"
        ],
        [
         "569",
         "Malphite",
         "TRLH3/20094",
         "Alliance",
         "Wickd",
         "0",
         "-29"
        ],
        [
         "576",
         "Trundle",
         "TRLH3/20100",
         "Team ROCCAT",
         "Xaxus",
         "0",
         "-23"
        ],
        [
         "581",
         "Dr. Mundo",
         "TRLH3/20100",
         "Fnatic",
         "sOAZ",
         "1",
         "23"
        ],
        [
         "600",
         "Trundle",
         "TRLH3/20115",
         "Copenhagen Wolves",
         "YoungBuck",
         "0",
         "-28"
        ],
        [
         "605",
         "Renekton",
         "TRLH3/20115",
         "Fnatic",
         "sOAZ",
         "1",
         "28"
        ],
        [
         "612",
         "Trundle",
         "TRLH3/20127",
         "Alliance",
         "Wickd",
         "0",
         "-14"
        ],
        [
         "617",
         "Renekton",
         "TRLH3/20127",
         "SK Gaming",
         "fredy122",
         "1",
         "14"
        ],
        [
         "624",
         "Dr. Mundo",
         "TRLH3/20135",
         "SUPA HOT CREW",
         "Mimer",
         "1",
         "-6"
        ],
        [
         "629",
         "Trundle",
         "TRLH3/20135",
         "Copenhagen Wolves",
         "YoungBuck",
         "0",
         "6"
        ],
        [
         "636",
         "Renekton",
         "TRLH3/20141",
         "SK Gaming",
         "fredy122",
         "1",
         "14"
        ],
        [
         "641",
         "Trundle",
         "TRLH3/20141",
         "Team ROCCAT",
         "Xaxus",
         "0",
         "-14"
        ],
        [
         "816",
         "LeBlanc",
         "TRLH3/30128",
         "Fnatic",
         "sOAZ",
         "0",
         "9"
        ],
        [
         "821",
         "Trundle",
         "TRLH3/30128",
         "Alliance",
         "Wickd",
         "1",
         "-9"
        ],
        [
         "840",
         "Renekton",
         "TRLH3/30144",
         "Copenhagen Wolves",
         "YoungBuck",
         "0",
         "0"
        ],
        [
         "845",
         "Trundle",
         "TRLH3/30144",
         "Gambit Gaming",
         "Darien",
         "1",
         "0"
        ],
        [
         "864",
         "Renekton",
         "TRLH3/20197",
         "SK Gaming",
         "fredy122",
         "0",
         "20"
        ],
        [
         "869",
         "Trundle",
         "TRLH3/20197",
         "Copenhagen Wolves",
         "YoungBuck",
         "1",
         "-20"
        ],
        [
         "876",
         "Renekton",
         "TRLH3/20206",
         "SUPA HOT CREW",
         "Mimer",
         "1",
         "1"
        ],
        [
         "881",
         "Trundle",
         "TRLH3/20206",
         "Gambit Gaming",
         "Darien",
         "0",
         "-1"
        ],
        [
         "1056",
         "Trundle",
         "TRLH3/1000040020",
         "SK Gaming",
         "fredy122",
         "1",
         "0"
        ],
        [
         "1061",
         "Rumble",
         "TRLH3/1000040020",
         "Fnatic",
         "sOAZ",
         "0",
         "0"
        ],
        [
         "1080",
         "Trundle",
         "TRLH3/1000050030",
         "Team ROCCAT",
         "Xaxus",
         "1",
         "-11"
        ],
        [
         "1085",
         "Renekton",
         "TRLH3/1000050030",
         "Alliance",
         "Wickd",
         "0",
         "11"
        ],
        [
         "1104",
         "Trundle",
         "TRLH3/1000040077",
         "Alliance",
         "Wickd",
         "0",
         "8"
        ],
        [
         "1109",
         "Lissandra",
         "TRLH3/1000040077",
         "SUPA HOT CREW",
         "Mimer",
         "1",
         "-8"
        ],
        [
         "1116",
         "Renekton",
         "TRLH3/1000040081",
         "Fnatic",
         "sOAZ",
         "0",
         "7"
        ],
        [
         "1121",
         "Trundle",
         "TRLH3/1000040081",
         "Millenium",
         "Kev1n",
         "1",
         "-7"
        ],
        [
         "1128",
         "Wukong",
         "TRLH3/1000040088",
         "Copenhagen Wolves",
         "YoungBuck",
         "0",
         "17"
        ],
        [
         "1133",
         "Trundle",
         "TRLH3/1000040088",
         "Team ROCCAT",
         "Xaxus",
         "1",
         "-17"
        ],
        [
         "1140",
         "Trundle",
         "TRLH3/1000040096",
         "SK Gaming",
         "fredy122",
         "1",
         "14"
        ],
        [
         "1145",
         "Warwick",
         "TRLH3/1000040096",
         "Gambit Gaming",
         "Darien",
         "0",
         "-14"
        ],
        [
         "1152",
         "Dr. Mundo",
         "TRLH3/1000050102",
         "Ninjas in Pyjamas",
         "Zorozero",
         "0",
         "2"
        ],
        [
         "1157",
         "Trundle",
         "TRLH3/1000050102",
         "Cloud9 Eclipse",
         "Odoamne",
         "1",
         "-2"
        ],
        [
         "1164",
         "Trundle",
         "TRLH3/1000040118",
         "Cloud9 Eclipse",
         "Odoamne",
         "1",
         "28"
        ],
        [
         "1169",
         "Dr. Mundo",
         "TRLH3/1000040118",
         "Ninjas in Pyjamas",
         "Zorozero",
         "0",
         "-28"
        ],
        [
         "1200",
         "Jax",
         "TRLH1/1000060303",
         "Team Coast",
         "Darshan",
         "1",
         "-21"
        ],
        [
         "1205",
         "Trundle",
         "TRLH1/1000060303",
         "XDG Gaming",
         "Benny",
         "0",
         "21"
        ],
        [
         "1212",
         "Trundle",
         "TRLH1/1000060312",
         "TSM",
         "Dyrus",
         "1",
         "29"
        ],
        [
         "1217",
         "Dr. Mundo",
         "TRLH1/1000060312",
         "Dignitas",
         "Cruzer",
         "0",
         "-29"
        ]
       ],
       "shape": {
        "columns": 6,
        "rows": 408
       }
      },
      "text/html": [
       "<div>\n",
       "<style scoped>\n",
       "    .dataframe tbody tr th:only-of-type {\n",
       "        vertical-align: middle;\n",
       "    }\n",
       "\n",
       "    .dataframe tbody tr th {\n",
       "        vertical-align: top;\n",
       "    }\n",
       "\n",
       "    .dataframe thead th {\n",
       "        text-align: right;\n",
       "    }\n",
       "</style>\n",
       "<table border=\"1\" class=\"dataframe\">\n",
       "  <thead>\n",
       "    <tr style=\"text-align: right;\">\n",
       "      <th></th>\n",
       "      <th>champion</th>\n",
       "      <th>gameid</th>\n",
       "      <th>teamname</th>\n",
       "      <th>playername</th>\n",
       "      <th>result</th>\n",
       "      <th>csdiffat10</th>\n",
       "    </tr>\n",
       "  </thead>\n",
       "  <tbody>\n",
       "    <tr>\n",
       "      <th>0</th>\n",
       "      <td>Trundle</td>\n",
       "      <td>TRLH3/33</td>\n",
       "      <td>Fnatic</td>\n",
       "      <td>sOAZ</td>\n",
       "      <td>1</td>\n",
       "      <td>0</td>\n",
       "    </tr>\n",
       "    <tr>\n",
       "      <th>5</th>\n",
       "      <td>Dr. Mundo</td>\n",
       "      <td>TRLH3/33</td>\n",
       "      <td>Gambit Gaming</td>\n",
       "      <td>Darien</td>\n",
       "      <td>0</td>\n",
       "      <td>0</td>\n",
       "    </tr>\n",
       "    <tr>\n",
       "      <th>168</th>\n",
       "      <td>Dr. Mundo</td>\n",
       "      <td>TRLH1/1000050071</td>\n",
       "      <td>Team Curse</td>\n",
       "      <td>Quas</td>\n",
       "      <td>1</td>\n",
       "      <td>3</td>\n",
       "    </tr>\n",
       "    <tr>\n",
       "      <th>173</th>\n",
       "      <td>Trundle</td>\n",
       "      <td>TRLH1/1000050071</td>\n",
       "      <td>Team Coast</td>\n",
       "      <td>Darshan</td>\n",
       "      <td>0</td>\n",
       "      <td>-3</td>\n",
       "    </tr>\n",
       "    <tr>\n",
       "      <th>240</th>\n",
       "      <td>Trundle</td>\n",
       "      <td>TRLH1/1000040155</td>\n",
       "      <td>Dignitas</td>\n",
       "      <td>Cruzer</td>\n",
       "      <td>0</td>\n",
       "      <td>28</td>\n",
       "    </tr>\n",
       "    <tr>\n",
       "      <th>...</th>\n",
       "      <td>...</td>\n",
       "      <td>...</td>\n",
       "      <td>...</td>\n",
       "      <td>...</td>\n",
       "      <td>...</td>\n",
       "      <td>...</td>\n",
       "    </tr>\n",
       "    <tr>\n",
       "      <th>5609</th>\n",
       "      <td>Trundle</td>\n",
       "      <td>FRA1TMNT1/270127</td>\n",
       "      <td>Frank Fang Gaming</td>\n",
       "      <td>Nien</td>\n",
       "      <td>0</td>\n",
       "      <td>16</td>\n",
       "    </tr>\n",
       "    <tr>\n",
       "      <th>5892</th>\n",
       "      <td>Aatrox</td>\n",
       "      <td>TRLH3/1000290051</td>\n",
       "      <td>Millenium</td>\n",
       "      <td>Kev1n</td>\n",
       "      <td>1</td>\n",
       "      <td>15</td>\n",
       "    </tr>\n",
       "    <tr>\n",
       "      <th>5897</th>\n",
       "      <td>Trundle</td>\n",
       "      <td>TRLH3/1000290051</td>\n",
       "      <td>SK Gaming</td>\n",
       "      <td>fredy122</td>\n",
       "      <td>0</td>\n",
       "      <td>-15</td>\n",
       "    </tr>\n",
       "    <tr>\n",
       "      <th>6672</th>\n",
       "      <td>Gragas</td>\n",
       "      <td>FRA1TMNT1/310088</td>\n",
       "      <td>Team 8</td>\n",
       "      <td>CaliTrlolz</td>\n",
       "      <td>1</td>\n",
       "      <td>31</td>\n",
       "    </tr>\n",
       "    <tr>\n",
       "      <th>6677</th>\n",
       "      <td>Trundle</td>\n",
       "      <td>FRA1TMNT1/310088</td>\n",
       "      <td>Zenith Esports</td>\n",
       "      <td>Akaadian</td>\n",
       "      <td>0</td>\n",
       "      <td>-31</td>\n",
       "    </tr>\n",
       "  </tbody>\n",
       "</table>\n",
       "<p>408 rows × 6 columns</p>\n",
       "</div>"
      ],
      "text/plain": [
       "       champion            gameid           teamname  playername  result  \\\n",
       "0       Trundle          TRLH3/33             Fnatic        sOAZ       1   \n",
       "5     Dr. Mundo          TRLH3/33      Gambit Gaming      Darien       0   \n",
       "168   Dr. Mundo  TRLH1/1000050071         Team Curse        Quas       1   \n",
       "173     Trundle  TRLH1/1000050071         Team Coast     Darshan       0   \n",
       "240     Trundle  TRLH1/1000040155           Dignitas      Cruzer       0   \n",
       "...         ...               ...                ...         ...     ...   \n",
       "5609    Trundle  FRA1TMNT1/270127  Frank Fang Gaming        Nien       0   \n",
       "5892     Aatrox  TRLH3/1000290051          Millenium       Kev1n       1   \n",
       "5897    Trundle  TRLH3/1000290051          SK Gaming    fredy122       0   \n",
       "6672     Gragas  FRA1TMNT1/310088             Team 8  CaliTrlolz       1   \n",
       "6677    Trundle  FRA1TMNT1/310088     Zenith Esports    Akaadian       0   \n",
       "\n",
       "      csdiffat10  \n",
       "0              0  \n",
       "5              0  \n",
       "168            3  \n",
       "173           -3  \n",
       "240           28  \n",
       "...          ...  \n",
       "5609          16  \n",
       "5892          15  \n",
       "5897         -15  \n",
       "6672          31  \n",
       "6677         -31  \n",
       "\n",
       "[408 rows x 6 columns]"
      ]
     },
     "execution_count": 17,
     "metadata": {},
     "output_type": "execute_result"
    }
   ],
   "source": [
    "df_role.loc[:,[\"champion\",\"gameid\",\"teamname\",\"playername\",\"result\",\"csdiffat10\"]]\n"
   ]
  },
  {
   "cell_type": "code",
   "execution_count": 18,
   "id": "b243ffd6",
   "metadata": {},
   "outputs": [
    {
     "data": {
      "application/vnd.microsoft.datawrangler.viewer.v0+json": {
       "columns": [
        {
         "name": "champion",
         "rawType": "object",
         "type": "string"
        },
        {
         "name": "win_ratio",
         "rawType": "float64",
         "type": "float"
        },
        {
         "name": "loss_ratio",
         "rawType": "float64",
         "type": "float"
        },
        {
         "name": "loss",
         "rawType": "int64",
         "type": "integer"
        },
        {
         "name": "pick",
         "rawType": "int64",
         "type": "integer"
        },
        {
         "name": "cs_diff_10",
         "rawType": "float64",
         "type": "float"
        },
        {
         "name": "cs_diff_15",
         "rawType": "float64",
         "type": "float"
        },
        {
         "name": "cs_diff_20",
         "rawType": "float64",
         "type": "float"
        },
        {
         "name": "wins",
         "rawType": "int64",
         "type": "integer"
        }
       ],
       "ref": "9c85564b-1951-431f-aa4c-5baca45bd35e",
       "rows": [
        [
         "Aatrox",
         "0.0",
         "1.0",
         "2",
         "2",
         "15.0",
         "-18.0",
         "-10.0",
         "0"
        ],
        [
         "Dr. Mundo",
         "0.45",
         "0.55",
         "12",
         "22",
         "-5.27",
         "-12.82",
         "-8.91",
         "10"
        ],
        [
         "Gragas",
         "0.33",
         "0.67",
         "4",
         "6",
         "17.33",
         "14.33",
         "24.67",
         "2"
        ],
        [
         "Irelia",
         "0.6",
         "0.4",
         "4",
         "10",
         "7.0",
         "11.8",
         "11.6",
         "6"
        ],
        [
         "Jax",
         "0.5",
         "0.5",
         "4",
         "8",
         "-7.75",
         "-13.0",
         "-16.75",
         "4"
        ],
        [
         "Jayce",
         "0.5",
         "0.5",
         "2",
         "4",
         "-5.5",
         "-7.5",
         "-24.0",
         "2"
        ],
        [
         "LeBlanc",
         "1.0",
         "0.0",
         "0",
         "4",
         "9.5",
         "14.0",
         "7.0",
         "4"
        ],
        [
         "Lee Sin",
         "0.75",
         "0.25",
         "2",
         "8",
         "-11.25",
         "-16.5",
         "-9.75",
         "6"
        ],
        [
         "Lissandra",
         "0.0",
         "1.0",
         "2",
         "2",
         "-8.0",
         "-17.0",
         "-9.0",
         "0"
        ],
        [
         "Lulu",
         "1.0",
         "0.0",
         "0",
         "2",
         "-7.0",
         "-22.0",
         "-26.0",
         "2"
        ],
        [
         "Malphite",
         "1.0",
         "0.0",
         "0",
         "2",
         "-29.0",
         "-35.0",
         "-34.0",
         "2"
        ],
        [
         "Renekton",
         "0.52",
         "0.48",
         "26",
         "54",
         "7.7",
         "11.81",
         "18.85",
         "28"
        ],
        [
         "Rumble",
         "1.0",
         "0.0",
         "0",
         "2",
         "0.0",
         "-4.0",
         "-11.0",
         "2"
        ],
        [
         "Ryze",
         "0.5",
         "0.5",
         "2",
         "4",
         "-13.5",
         "-24.0",
         "-20.5",
         "2"
        ],
        [
         "Shyvana",
         "0.45",
         "0.55",
         "36",
         "66",
         "-1.85",
         "1.45",
         "6.39",
         "30"
        ],
        [
         "Trundle",
         "0.49",
         "0.51",
         "104",
         "204",
         "-0.43",
         "-0.77",
         "-4.42",
         "100"
        ],
        [
         "Vladimir",
         "0.0",
         "1.0",
         "2",
         "2",
         "17.0",
         "29.0",
         "28.0",
         "0"
        ],
        [
         "Warwick",
         "0.5",
         "0.5",
         "2",
         "4",
         "-21.0",
         "-27.5",
         "-42.5",
         "2"
        ],
        [
         "Wukong",
         "1.0",
         "0.0",
         "0",
         "2",
         "17.0",
         "26.0",
         "25.0",
         "2"
        ]
       ],
       "shape": {
        "columns": 8,
        "rows": 19
       }
      },
      "text/html": [
       "<div>\n",
       "<style scoped>\n",
       "    .dataframe tbody tr th:only-of-type {\n",
       "        vertical-align: middle;\n",
       "    }\n",
       "\n",
       "    .dataframe tbody tr th {\n",
       "        vertical-align: top;\n",
       "    }\n",
       "\n",
       "    .dataframe thead th {\n",
       "        text-align: right;\n",
       "    }\n",
       "</style>\n",
       "<table border=\"1\" class=\"dataframe\">\n",
       "  <thead>\n",
       "    <tr style=\"text-align: right;\">\n",
       "      <th></th>\n",
       "      <th>win_ratio</th>\n",
       "      <th>loss_ratio</th>\n",
       "      <th>loss</th>\n",
       "      <th>pick</th>\n",
       "      <th>cs_diff_10</th>\n",
       "      <th>cs_diff_15</th>\n",
       "      <th>cs_diff_20</th>\n",
       "      <th>wins</th>\n",
       "    </tr>\n",
       "    <tr>\n",
       "      <th>champion</th>\n",
       "      <th></th>\n",
       "      <th></th>\n",
       "      <th></th>\n",
       "      <th></th>\n",
       "      <th></th>\n",
       "      <th></th>\n",
       "      <th></th>\n",
       "      <th></th>\n",
       "    </tr>\n",
       "  </thead>\n",
       "  <tbody>\n",
       "    <tr>\n",
       "      <th>Aatrox</th>\n",
       "      <td>0.00</td>\n",
       "      <td>1.00</td>\n",
       "      <td>2</td>\n",
       "      <td>2</td>\n",
       "      <td>15.00</td>\n",
       "      <td>-18.00</td>\n",
       "      <td>-10.00</td>\n",
       "      <td>0</td>\n",
       "    </tr>\n",
       "    <tr>\n",
       "      <th>Dr. Mundo</th>\n",
       "      <td>0.45</td>\n",
       "      <td>0.55</td>\n",
       "      <td>12</td>\n",
       "      <td>22</td>\n",
       "      <td>-5.27</td>\n",
       "      <td>-12.82</td>\n",
       "      <td>-8.91</td>\n",
       "      <td>10</td>\n",
       "    </tr>\n",
       "    <tr>\n",
       "      <th>Gragas</th>\n",
       "      <td>0.33</td>\n",
       "      <td>0.67</td>\n",
       "      <td>4</td>\n",
       "      <td>6</td>\n",
       "      <td>17.33</td>\n",
       "      <td>14.33</td>\n",
       "      <td>24.67</td>\n",
       "      <td>2</td>\n",
       "    </tr>\n",
       "    <tr>\n",
       "      <th>Irelia</th>\n",
       "      <td>0.60</td>\n",
       "      <td>0.40</td>\n",
       "      <td>4</td>\n",
       "      <td>10</td>\n",
       "      <td>7.00</td>\n",
       "      <td>11.80</td>\n",
       "      <td>11.60</td>\n",
       "      <td>6</td>\n",
       "    </tr>\n",
       "    <tr>\n",
       "      <th>Jax</th>\n",
       "      <td>0.50</td>\n",
       "      <td>0.50</td>\n",
       "      <td>4</td>\n",
       "      <td>8</td>\n",
       "      <td>-7.75</td>\n",
       "      <td>-13.00</td>\n",
       "      <td>-16.75</td>\n",
       "      <td>4</td>\n",
       "    </tr>\n",
       "    <tr>\n",
       "      <th>Jayce</th>\n",
       "      <td>0.50</td>\n",
       "      <td>0.50</td>\n",
       "      <td>2</td>\n",
       "      <td>4</td>\n",
       "      <td>-5.50</td>\n",
       "      <td>-7.50</td>\n",
       "      <td>-24.00</td>\n",
       "      <td>2</td>\n",
       "    </tr>\n",
       "    <tr>\n",
       "      <th>LeBlanc</th>\n",
       "      <td>1.00</td>\n",
       "      <td>0.00</td>\n",
       "      <td>0</td>\n",
       "      <td>4</td>\n",
       "      <td>9.50</td>\n",
       "      <td>14.00</td>\n",
       "      <td>7.00</td>\n",
       "      <td>4</td>\n",
       "    </tr>\n",
       "    <tr>\n",
       "      <th>Lee Sin</th>\n",
       "      <td>0.75</td>\n",
       "      <td>0.25</td>\n",
       "      <td>2</td>\n",
       "      <td>8</td>\n",
       "      <td>-11.25</td>\n",
       "      <td>-16.50</td>\n",
       "      <td>-9.75</td>\n",
       "      <td>6</td>\n",
       "    </tr>\n",
       "    <tr>\n",
       "      <th>Lissandra</th>\n",
       "      <td>0.00</td>\n",
       "      <td>1.00</td>\n",
       "      <td>2</td>\n",
       "      <td>2</td>\n",
       "      <td>-8.00</td>\n",
       "      <td>-17.00</td>\n",
       "      <td>-9.00</td>\n",
       "      <td>0</td>\n",
       "    </tr>\n",
       "    <tr>\n",
       "      <th>Lulu</th>\n",
       "      <td>1.00</td>\n",
       "      <td>0.00</td>\n",
       "      <td>0</td>\n",
       "      <td>2</td>\n",
       "      <td>-7.00</td>\n",
       "      <td>-22.00</td>\n",
       "      <td>-26.00</td>\n",
       "      <td>2</td>\n",
       "    </tr>\n",
       "    <tr>\n",
       "      <th>Malphite</th>\n",
       "      <td>1.00</td>\n",
       "      <td>0.00</td>\n",
       "      <td>0</td>\n",
       "      <td>2</td>\n",
       "      <td>-29.00</td>\n",
       "      <td>-35.00</td>\n",
       "      <td>-34.00</td>\n",
       "      <td>2</td>\n",
       "    </tr>\n",
       "    <tr>\n",
       "      <th>Renekton</th>\n",
       "      <td>0.52</td>\n",
       "      <td>0.48</td>\n",
       "      <td>26</td>\n",
       "      <td>54</td>\n",
       "      <td>7.70</td>\n",
       "      <td>11.81</td>\n",
       "      <td>18.85</td>\n",
       "      <td>28</td>\n",
       "    </tr>\n",
       "    <tr>\n",
       "      <th>Rumble</th>\n",
       "      <td>1.00</td>\n",
       "      <td>0.00</td>\n",
       "      <td>0</td>\n",
       "      <td>2</td>\n",
       "      <td>0.00</td>\n",
       "      <td>-4.00</td>\n",
       "      <td>-11.00</td>\n",
       "      <td>2</td>\n",
       "    </tr>\n",
       "    <tr>\n",
       "      <th>Ryze</th>\n",
       "      <td>0.50</td>\n",
       "      <td>0.50</td>\n",
       "      <td>2</td>\n",
       "      <td>4</td>\n",
       "      <td>-13.50</td>\n",
       "      <td>-24.00</td>\n",
       "      <td>-20.50</td>\n",
       "      <td>2</td>\n",
       "    </tr>\n",
       "    <tr>\n",
       "      <th>Shyvana</th>\n",
       "      <td>0.45</td>\n",
       "      <td>0.55</td>\n",
       "      <td>36</td>\n",
       "      <td>66</td>\n",
       "      <td>-1.85</td>\n",
       "      <td>1.45</td>\n",
       "      <td>6.39</td>\n",
       "      <td>30</td>\n",
       "    </tr>\n",
       "    <tr>\n",
       "      <th>Trundle</th>\n",
       "      <td>0.49</td>\n",
       "      <td>0.51</td>\n",
       "      <td>104</td>\n",
       "      <td>204</td>\n",
       "      <td>-0.43</td>\n",
       "      <td>-0.77</td>\n",
       "      <td>-4.42</td>\n",
       "      <td>100</td>\n",
       "    </tr>\n",
       "    <tr>\n",
       "      <th>Vladimir</th>\n",
       "      <td>0.00</td>\n",
       "      <td>1.00</td>\n",
       "      <td>2</td>\n",
       "      <td>2</td>\n",
       "      <td>17.00</td>\n",
       "      <td>29.00</td>\n",
       "      <td>28.00</td>\n",
       "      <td>0</td>\n",
       "    </tr>\n",
       "    <tr>\n",
       "      <th>Warwick</th>\n",
       "      <td>0.50</td>\n",
       "      <td>0.50</td>\n",
       "      <td>2</td>\n",
       "      <td>4</td>\n",
       "      <td>-21.00</td>\n",
       "      <td>-27.50</td>\n",
       "      <td>-42.50</td>\n",
       "      <td>2</td>\n",
       "    </tr>\n",
       "    <tr>\n",
       "      <th>Wukong</th>\n",
       "      <td>1.00</td>\n",
       "      <td>0.00</td>\n",
       "      <td>0</td>\n",
       "      <td>2</td>\n",
       "      <td>17.00</td>\n",
       "      <td>26.00</td>\n",
       "      <td>25.00</td>\n",
       "      <td>2</td>\n",
       "    </tr>\n",
       "  </tbody>\n",
       "</table>\n",
       "</div>"
      ],
      "text/plain": [
       "           win_ratio  loss_ratio  loss  pick  cs_diff_10  cs_diff_15  \\\n",
       "champion                                                               \n",
       "Aatrox          0.00        1.00     2     2       15.00      -18.00   \n",
       "Dr. Mundo       0.45        0.55    12    22       -5.27      -12.82   \n",
       "Gragas          0.33        0.67     4     6       17.33       14.33   \n",
       "Irelia          0.60        0.40     4    10        7.00       11.80   \n",
       "Jax             0.50        0.50     4     8       -7.75      -13.00   \n",
       "Jayce           0.50        0.50     2     4       -5.50       -7.50   \n",
       "LeBlanc         1.00        0.00     0     4        9.50       14.00   \n",
       "Lee Sin         0.75        0.25     2     8      -11.25      -16.50   \n",
       "Lissandra       0.00        1.00     2     2       -8.00      -17.00   \n",
       "Lulu            1.00        0.00     0     2       -7.00      -22.00   \n",
       "Malphite        1.00        0.00     0     2      -29.00      -35.00   \n",
       "Renekton        0.52        0.48    26    54        7.70       11.81   \n",
       "Rumble          1.00        0.00     0     2        0.00       -4.00   \n",
       "Ryze            0.50        0.50     2     4      -13.50      -24.00   \n",
       "Shyvana         0.45        0.55    36    66       -1.85        1.45   \n",
       "Trundle         0.49        0.51   104   204       -0.43       -0.77   \n",
       "Vladimir        0.00        1.00     2     2       17.00       29.00   \n",
       "Warwick         0.50        0.50     2     4      -21.00      -27.50   \n",
       "Wukong          1.00        0.00     0     2       17.00       26.00   \n",
       "\n",
       "           cs_diff_20  wins  \n",
       "champion                     \n",
       "Aatrox         -10.00     0  \n",
       "Dr. Mundo       -8.91    10  \n",
       "Gragas          24.67     2  \n",
       "Irelia          11.60     6  \n",
       "Jax            -16.75     4  \n",
       "Jayce          -24.00     2  \n",
       "LeBlanc          7.00     4  \n",
       "Lee Sin         -9.75     6  \n",
       "Lissandra       -9.00     0  \n",
       "Lulu           -26.00     2  \n",
       "Malphite       -34.00     2  \n",
       "Renekton        18.85    28  \n",
       "Rumble         -11.00     2  \n",
       "Ryze           -20.50     2  \n",
       "Shyvana          6.39    30  \n",
       "Trundle         -4.42   100  \n",
       "Vladimir        28.00     0  \n",
       "Warwick        -42.50     2  \n",
       "Wukong          25.00     2  "
      ]
     },
     "execution_count": 18,
     "metadata": {},
     "output_type": "execute_result"
    }
   ],
   "source": [
    "data_result"
   ]
  }
 ],
 "metadata": {
  "kernelspec": {
   "display_name": "analysis_venv",
   "language": "python",
   "name": "python3"
  },
  "language_info": {
   "codemirror_mode": {
    "name": "ipython",
    "version": 3
   },
   "file_extension": ".py",
   "mimetype": "text/x-python",
   "name": "python",
   "nbconvert_exporter": "python",
   "pygments_lexer": "ipython3",
   "version": "3.13.3"
  }
 },
 "nbformat": 4,
 "nbformat_minor": 5
}
